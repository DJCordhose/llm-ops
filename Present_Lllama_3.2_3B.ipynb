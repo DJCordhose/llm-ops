{
  "nbformat": 4,
  "nbformat_minor": 0,
  "metadata": {
    "colab": {
      "provenance": [],
      "gpuType": "L4",
      "machine_shape": "hm",
      "authorship_tag": "ABX9TyP6/ud4LoTBoiVYnz1f0rWn",
      "include_colab_link": true
    },
    "kernelspec": {
      "name": "python3",
      "display_name": "Python 3"
    },
    "language_info": {
      "name": "python"
    },
    "accelerator": "GPU",
    "widgets": {
      "application/vnd.jupyter.widget-state+json": {
        "4037eba57c66455fb94d7412fa6fc7a3": {
          "model_module": "@jupyter-widgets/controls",
          "model_name": "HBoxModel",
          "model_module_version": "1.5.0",
          "state": {
            "_dom_classes": [],
            "_model_module": "@jupyter-widgets/controls",
            "_model_module_version": "1.5.0",
            "_model_name": "HBoxModel",
            "_view_count": null,
            "_view_module": "@jupyter-widgets/controls",
            "_view_module_version": "1.5.0",
            "_view_name": "HBoxView",
            "box_style": "",
            "children": [
              "IPY_MODEL_6a218dc83dca42a198d50d9785f34325",
              "IPY_MODEL_52a9130f172545d8b5bf54af39ac0ad0",
              "IPY_MODEL_71cc95df646a4e2da95e595d4d053442"
            ],
            "layout": "IPY_MODEL_3be7bc89d40849178a24daa77fca0af9"
          }
        },
        "6a218dc83dca42a198d50d9785f34325": {
          "model_module": "@jupyter-widgets/controls",
          "model_name": "HTMLModel",
          "model_module_version": "1.5.0",
          "state": {
            "_dom_classes": [],
            "_model_module": "@jupyter-widgets/controls",
            "_model_module_version": "1.5.0",
            "_model_name": "HTMLModel",
            "_view_count": null,
            "_view_module": "@jupyter-widgets/controls",
            "_view_module_version": "1.5.0",
            "_view_name": "HTMLView",
            "description": "",
            "description_tooltip": null,
            "layout": "IPY_MODEL_d43eb960f051448dbf86a4e1b862182d",
            "placeholder": "​",
            "style": "IPY_MODEL_4618dba1d0ad497d8afef572edcb16ee",
            "value": "Loading checkpoint shards: 100%"
          }
        },
        "52a9130f172545d8b5bf54af39ac0ad0": {
          "model_module": "@jupyter-widgets/controls",
          "model_name": "FloatProgressModel",
          "model_module_version": "1.5.0",
          "state": {
            "_dom_classes": [],
            "_model_module": "@jupyter-widgets/controls",
            "_model_module_version": "1.5.0",
            "_model_name": "FloatProgressModel",
            "_view_count": null,
            "_view_module": "@jupyter-widgets/controls",
            "_view_module_version": "1.5.0",
            "_view_name": "ProgressView",
            "bar_style": "success",
            "description": "",
            "description_tooltip": null,
            "layout": "IPY_MODEL_b92029873a614115ac50e688d9d72437",
            "max": 2,
            "min": 0,
            "orientation": "horizontal",
            "style": "IPY_MODEL_a90dee46b28b495a92077f1beab3abd3",
            "value": 2
          }
        },
        "71cc95df646a4e2da95e595d4d053442": {
          "model_module": "@jupyter-widgets/controls",
          "model_name": "HTMLModel",
          "model_module_version": "1.5.0",
          "state": {
            "_dom_classes": [],
            "_model_module": "@jupyter-widgets/controls",
            "_model_module_version": "1.5.0",
            "_model_name": "HTMLModel",
            "_view_count": null,
            "_view_module": "@jupyter-widgets/controls",
            "_view_module_version": "1.5.0",
            "_view_name": "HTMLView",
            "description": "",
            "description_tooltip": null,
            "layout": "IPY_MODEL_f45c6292924a4499ba0266ed957a4d12",
            "placeholder": "​",
            "style": "IPY_MODEL_79b1bb7ce201403f8a518c32b7319218",
            "value": " 2/2 [00:02&lt;00:00,  1.36s/it]"
          }
        },
        "3be7bc89d40849178a24daa77fca0af9": {
          "model_module": "@jupyter-widgets/base",
          "model_name": "LayoutModel",
          "model_module_version": "1.2.0",
          "state": {
            "_model_module": "@jupyter-widgets/base",
            "_model_module_version": "1.2.0",
            "_model_name": "LayoutModel",
            "_view_count": null,
            "_view_module": "@jupyter-widgets/base",
            "_view_module_version": "1.2.0",
            "_view_name": "LayoutView",
            "align_content": null,
            "align_items": null,
            "align_self": null,
            "border": null,
            "bottom": null,
            "display": null,
            "flex": null,
            "flex_flow": null,
            "grid_area": null,
            "grid_auto_columns": null,
            "grid_auto_flow": null,
            "grid_auto_rows": null,
            "grid_column": null,
            "grid_gap": null,
            "grid_row": null,
            "grid_template_areas": null,
            "grid_template_columns": null,
            "grid_template_rows": null,
            "height": null,
            "justify_content": null,
            "justify_items": null,
            "left": null,
            "margin": null,
            "max_height": null,
            "max_width": null,
            "min_height": null,
            "min_width": null,
            "object_fit": null,
            "object_position": null,
            "order": null,
            "overflow": null,
            "overflow_x": null,
            "overflow_y": null,
            "padding": null,
            "right": null,
            "top": null,
            "visibility": null,
            "width": null
          }
        },
        "d43eb960f051448dbf86a4e1b862182d": {
          "model_module": "@jupyter-widgets/base",
          "model_name": "LayoutModel",
          "model_module_version": "1.2.0",
          "state": {
            "_model_module": "@jupyter-widgets/base",
            "_model_module_version": "1.2.0",
            "_model_name": "LayoutModel",
            "_view_count": null,
            "_view_module": "@jupyter-widgets/base",
            "_view_module_version": "1.2.0",
            "_view_name": "LayoutView",
            "align_content": null,
            "align_items": null,
            "align_self": null,
            "border": null,
            "bottom": null,
            "display": null,
            "flex": null,
            "flex_flow": null,
            "grid_area": null,
            "grid_auto_columns": null,
            "grid_auto_flow": null,
            "grid_auto_rows": null,
            "grid_column": null,
            "grid_gap": null,
            "grid_row": null,
            "grid_template_areas": null,
            "grid_template_columns": null,
            "grid_template_rows": null,
            "height": null,
            "justify_content": null,
            "justify_items": null,
            "left": null,
            "margin": null,
            "max_height": null,
            "max_width": null,
            "min_height": null,
            "min_width": null,
            "object_fit": null,
            "object_position": null,
            "order": null,
            "overflow": null,
            "overflow_x": null,
            "overflow_y": null,
            "padding": null,
            "right": null,
            "top": null,
            "visibility": null,
            "width": null
          }
        },
        "4618dba1d0ad497d8afef572edcb16ee": {
          "model_module": "@jupyter-widgets/controls",
          "model_name": "DescriptionStyleModel",
          "model_module_version": "1.5.0",
          "state": {
            "_model_module": "@jupyter-widgets/controls",
            "_model_module_version": "1.5.0",
            "_model_name": "DescriptionStyleModel",
            "_view_count": null,
            "_view_module": "@jupyter-widgets/base",
            "_view_module_version": "1.2.0",
            "_view_name": "StyleView",
            "description_width": ""
          }
        },
        "b92029873a614115ac50e688d9d72437": {
          "model_module": "@jupyter-widgets/base",
          "model_name": "LayoutModel",
          "model_module_version": "1.2.0",
          "state": {
            "_model_module": "@jupyter-widgets/base",
            "_model_module_version": "1.2.0",
            "_model_name": "LayoutModel",
            "_view_count": null,
            "_view_module": "@jupyter-widgets/base",
            "_view_module_version": "1.2.0",
            "_view_name": "LayoutView",
            "align_content": null,
            "align_items": null,
            "align_self": null,
            "border": null,
            "bottom": null,
            "display": null,
            "flex": null,
            "flex_flow": null,
            "grid_area": null,
            "grid_auto_columns": null,
            "grid_auto_flow": null,
            "grid_auto_rows": null,
            "grid_column": null,
            "grid_gap": null,
            "grid_row": null,
            "grid_template_areas": null,
            "grid_template_columns": null,
            "grid_template_rows": null,
            "height": null,
            "justify_content": null,
            "justify_items": null,
            "left": null,
            "margin": null,
            "max_height": null,
            "max_width": null,
            "min_height": null,
            "min_width": null,
            "object_fit": null,
            "object_position": null,
            "order": null,
            "overflow": null,
            "overflow_x": null,
            "overflow_y": null,
            "padding": null,
            "right": null,
            "top": null,
            "visibility": null,
            "width": null
          }
        },
        "a90dee46b28b495a92077f1beab3abd3": {
          "model_module": "@jupyter-widgets/controls",
          "model_name": "ProgressStyleModel",
          "model_module_version": "1.5.0",
          "state": {
            "_model_module": "@jupyter-widgets/controls",
            "_model_module_version": "1.5.0",
            "_model_name": "ProgressStyleModel",
            "_view_count": null,
            "_view_module": "@jupyter-widgets/base",
            "_view_module_version": "1.2.0",
            "_view_name": "StyleView",
            "bar_color": null,
            "description_width": ""
          }
        },
        "f45c6292924a4499ba0266ed957a4d12": {
          "model_module": "@jupyter-widgets/base",
          "model_name": "LayoutModel",
          "model_module_version": "1.2.0",
          "state": {
            "_model_module": "@jupyter-widgets/base",
            "_model_module_version": "1.2.0",
            "_model_name": "LayoutModel",
            "_view_count": null,
            "_view_module": "@jupyter-widgets/base",
            "_view_module_version": "1.2.0",
            "_view_name": "LayoutView",
            "align_content": null,
            "align_items": null,
            "align_self": null,
            "border": null,
            "bottom": null,
            "display": null,
            "flex": null,
            "flex_flow": null,
            "grid_area": null,
            "grid_auto_columns": null,
            "grid_auto_flow": null,
            "grid_auto_rows": null,
            "grid_column": null,
            "grid_gap": null,
            "grid_row": null,
            "grid_template_areas": null,
            "grid_template_columns": null,
            "grid_template_rows": null,
            "height": null,
            "justify_content": null,
            "justify_items": null,
            "left": null,
            "margin": null,
            "max_height": null,
            "max_width": null,
            "min_height": null,
            "min_width": null,
            "object_fit": null,
            "object_position": null,
            "order": null,
            "overflow": null,
            "overflow_x": null,
            "overflow_y": null,
            "padding": null,
            "right": null,
            "top": null,
            "visibility": null,
            "width": null
          }
        },
        "79b1bb7ce201403f8a518c32b7319218": {
          "model_module": "@jupyter-widgets/controls",
          "model_name": "DescriptionStyleModel",
          "model_module_version": "1.5.0",
          "state": {
            "_model_module": "@jupyter-widgets/controls",
            "_model_module_version": "1.5.0",
            "_model_name": "DescriptionStyleModel",
            "_view_count": null,
            "_view_module": "@jupyter-widgets/base",
            "_view_module_version": "1.2.0",
            "_view_name": "StyleView",
            "description_width": ""
          }
        }
      }
    }
  },
  "cells": [
    {
      "cell_type": "markdown",
      "metadata": {
        "id": "view-in-github",
        "colab_type": "text"
      },
      "source": [
        "<a href=\"https://colab.research.google.com/github/DJCordhose/llm-ops/blob/main/Present_Lllama_3.2_3B.ipynb\" target=\"_parent\"><img src=\"https://colab.research.google.com/assets/colab-badge.svg\" alt=\"Open In Colab\"/></a>"
      ]
    },
    {
      "cell_type": "markdown",
      "source": [
        "# Multi Lingual Medical Assessment Classification\n",
        "\n",
        "## LLama 3.1 8B\n",
        "https://huggingface.co/meta-llama/Meta-Llama-3.1-8B-Instruct\n",
        "\n",
        "### Measurements\n",
        "\n",
        "#### 4 Bit T4\n",
        "* Negatives: 35 s\n",
        "* Positives: 38 s\n",
        "\n",
        "#### 4 Bit T4 (optimized config)\n",
        "* Negatives: 24 s\n",
        "* Positives: 25 s\n",
        "\n",
        "#### 8 Bit T4\n",
        "* Negatives: 23 s\n",
        "* Positives: 23 s\n",
        "\n",
        "#### Full Res L4\n",
        "* Negatives: 12.5 s\n",
        "* Positives: 12.5 s\n",
        "\n",
        "## Phi 3.5 MoE\n",
        "* https://techcommunity.microsoft.com/t5/ai-azure-ai-services-blog/discover-the-new-multi-lingual-high-quality-phi-3-5-slms/ba-p/4225280\n",
        "* https://huggingface.co/microsoft/Phi-3.5-mini-instruct\n",
        "* https://huggingface.co/microsoft/Phi-3.5-MoE-instruct\n",
        "\n",
        "### Measurements\n",
        "\n",
        "#### 4 Bit A100\n",
        "* Negatives: 50 s\n",
        "* Positives: 50 s\n",
        "\n",
        "## Memory consumption and Quantization\n",
        "\n",
        "### Quantization 4-Bit / 8-Bit\n",
        "* 4-Bit (FP4): https://huggingface.co/blog/4bit-transformers-bitsandbytes\n",
        "  * computation is not done in 4bit, the weights and activations are compressed to that format and the computation is still kept in native dtype\n",
        "* 8-Bit (LLM.int8()): https://huggingface.co/blog/hf-bitsandbytes-integration#a-gentle-summary-of-llmint8-zero-degradation-matrix-multiplication-for-large-language-models\n",
        "  * performs the matrix multiplication of the outliers in FP16 and the non-outliers in int8\n",
        "\n",
        "### Memory consumption for Lllama 3.1 models\n",
        "- How much memory does Llama 3.1 need for weights and cache (depending on the actually used context length) https://huggingface.co/blog/llama31#inference-memory-requirements\n",
        "- Detailed, but still comprehensive explanation of how inference in LLMs works: https://developer.nvidia.com/blog/mastering-llm-techniques-inference-optimization/\n"
      ],
      "metadata": {
        "id": "iR6_IfMp4Pvv"
      }
    },
    {
      "cell_type": "markdown",
      "source": [
        "# Hands-on: Inference on commodity hardware\n",
        "\n",
        "**Run the assessment classification on the best Llama 3.x model possible**\n",
        "\n",
        "1. Get a very subjective impression: Do you like the results in terms of e.g.\n",
        "   1. Quality of language\n",
        "   1. Halluzination\n",
        "   1. Accuracy\n",
        "   1. Speed\n",
        "   1. Memory consumption\n",
        "1. If more than one Llama 3.x model actually runs, subjectively compare the results\n",
        "\n",
        "## Optional\n",
        "1. Compare to Phi Mini\n",
        "1. Try a different langauge (German is prepared)\n"
      ],
      "metadata": {
        "id": "Sn_aFrdGCLHu"
      }
    },
    {
      "cell_type": "code",
      "source": [
        "%%time\n",
        "\n",
        "!pip install --upgrade -q transformers accelerate torch bitsandbytes"
      ],
      "metadata": {
        "id": "ruMEtKBS4o6g",
        "outputId": "2ee34766-3bf5-4af8-d143-e71c5dca1310",
        "colab": {
          "base_uri": "https://localhost:8080/"
        }
      },
      "execution_count": 1,
      "outputs": [
        {
          "output_type": "stream",
          "name": "stdout",
          "text": [
            "CPU times: user 76 ms, sys: 57.1 ms, total: 133 ms\n",
            "Wall time: 2.85 s\n"
          ]
        }
      ]
    },
    {
      "cell_type": "code",
      "source": [
        "# Can take forever, and we can do without it\n",
        "\n",
        "# !pip install --upgrade flash_attn"
      ],
      "metadata": {
        "id": "2iJYkkQGzxHo"
      },
      "execution_count": 2,
      "outputs": []
    },
    {
      "cell_type": "code",
      "source": [
        "import transformers\n",
        "\n",
        "transformers.__version__"
      ],
      "metadata": {
        "id": "oQgTIEoCnoBE",
        "outputId": "e2ae7a17-69dd-4cd3-fa7a-c17cae07d2ca",
        "colab": {
          "base_uri": "https://localhost:8080/",
          "height": 35
        }
      },
      "execution_count": 3,
      "outputs": [
        {
          "output_type": "execute_result",
          "data": {
            "text/plain": [
              "'4.46.0'"
            ],
            "application/vnd.google.colaboratory.intrinsic+json": {
              "type": "string"
            }
          },
          "metadata": {},
          "execution_count": 3
        }
      ]
    },
    {
      "cell_type": "code",
      "source": [
        "from google.colab import userdata"
      ],
      "metadata": {
        "id": "J5kBd8psB1or"
      },
      "execution_count": 4,
      "outputs": []
    },
    {
      "cell_type": "code",
      "source": [
        "# Configure HuggingFace token as a Colab Secret, use key symbol on the left panel\n",
        "!huggingface-cli login --token {userdata.get('HF_TOKEN')}"
      ],
      "metadata": {
        "colab": {
          "base_uri": "https://localhost:8080/"
        },
        "id": "E93a_cgwBsPW",
        "outputId": "b2f69f0f-0c9d-4a0f-82c7-8df85a345310"
      },
      "execution_count": 5,
      "outputs": [
        {
          "output_type": "stream",
          "name": "stdout",
          "text": [
            "The token has not been saved to the git credentials helper. Pass `add_to_git_credential=True` in this function directly or `--add-to-git-credential` if using via `huggingface-cli` if you want to set the git credential as well.\n",
            "Token is valid (permission: read).\n",
            "Your token has been saved to /root/.cache/huggingface/token\n",
            "Login successful\n"
          ]
        }
      ]
    },
    {
      "cell_type": "code",
      "source": [
        "import warnings\n",
        "warnings.filterwarnings(\"ignore\")"
      ],
      "metadata": {
        "id": "y-SYiDVt4Oxd"
      },
      "execution_count": 6,
      "outputs": []
    },
    {
      "cell_type": "code",
      "source": [
        "from IPython.display import Markdown"
      ],
      "metadata": {
        "id": "pBA0hHok7bmG"
      },
      "execution_count": 7,
      "outputs": []
    },
    {
      "cell_type": "code",
      "source": [
        "!nvidia-smi"
      ],
      "metadata": {
        "colab": {
          "base_uri": "https://localhost:8080/"
        },
        "id": "9pEQyik-rrhL",
        "outputId": "4d7aa9e1-b8bb-4736-d2ad-5d3a9f67050d"
      },
      "execution_count": 8,
      "outputs": [
        {
          "output_type": "stream",
          "name": "stdout",
          "text": [
            "Sun Oct 27 16:42:36 2024       \n",
            "+---------------------------------------------------------------------------------------+\n",
            "| NVIDIA-SMI 535.104.05             Driver Version: 535.104.05   CUDA Version: 12.2     |\n",
            "|-----------------------------------------+----------------------+----------------------+\n",
            "| GPU  Name                 Persistence-M | Bus-Id        Disp.A | Volatile Uncorr. ECC |\n",
            "| Fan  Temp   Perf          Pwr:Usage/Cap |         Memory-Usage | GPU-Util  Compute M. |\n",
            "|                                         |                      |               MIG M. |\n",
            "|=========================================+======================+======================|\n",
            "|   0  NVIDIA L4                      Off | 00000000:00:03.0 Off |                    0 |\n",
            "| N/A   47C    P8              16W /  72W |      1MiB / 23034MiB |      0%      Default |\n",
            "|                                         |                      |                  N/A |\n",
            "+-----------------------------------------+----------------------+----------------------+\n",
            "                                                                                         \n",
            "+---------------------------------------------------------------------------------------+\n",
            "| Processes:                                                                            |\n",
            "|  GPU   GI   CI        PID   Type   Process name                            GPU Memory |\n",
            "|        ID   ID                                                             Usage      |\n",
            "|=======================================================================================|\n",
            "|  No running processes found                                                           |\n",
            "+---------------------------------------------------------------------------------------+\n"
          ]
        }
      ]
    },
    {
      "cell_type": "code",
      "source": [
        "# kind = 'Lllama_3.1_8B_4bit'\n",
        "# kind = 'Lllama_3.1_8B_8bit'\n",
        "# kind = 'Lllama_3.1_8B_16bit'\n",
        "kind = 'Lllama_3.2_3B_16bit'\n",
        "# kind = 'Lllama_3.2_1B_16bit'\n",
        "# kind = 'Phi-3.5-MoE_4bit'\n",
        "# kind = \"Phi-3.5-mini_16bit\"\n",
        "\n",
        "lang = \"de\"\n",
        "# lang = \"en\""
      ],
      "metadata": {
        "id": "guL3PrUnQ8PZ"
      },
      "execution_count": 9,
      "outputs": []
    },
    {
      "cell_type": "code",
      "source": [
        "if \"Lllama_3.1_8B\" in kind:\n",
        "  model_id = \"meta-llama/Meta-Llama-3.1-8B-Instruct\"\n",
        "elif \"Lllama_3.2_3B\" in kind:\n",
        "  model_id = \"meta-llama/Llama-3.2-3B-Instruct\"\n",
        "elif \"Lllama_3.2_1B\" in kind:\n",
        "  model_id = \"meta-llama/Llama-3.2-1B-Instruct\"\n",
        "elif \"Phi-3.5-MoE\" in kind:\n",
        "  model_id = \"microsoft/Phi-3.5-MoE-instruct\"\n",
        "else:\n",
        "  model_id = \"microsoft/Phi-3.5-mini-instruct\"\n",
        "\n",
        "print(model_id)"
      ],
      "metadata": {
        "id": "q5mV16Pt1NU6",
        "outputId": "9a799633-bae2-4f89-c423-3cf084e58ce5",
        "colab": {
          "base_uri": "https://localhost:8080/"
        }
      },
      "execution_count": 10,
      "outputs": [
        {
          "output_type": "stream",
          "name": "stdout",
          "text": [
            "meta-llama/Llama-3.2-3B-Instruct\n"
          ]
        }
      ]
    },
    {
      "cell_type": "code",
      "source": [
        "from transformers import AutoTokenizer\n",
        "tokenizer = AutoTokenizer.from_pretrained(model_id)"
      ],
      "metadata": {
        "id": "vYDzjGdHVXaG"
      },
      "execution_count": 11,
      "outputs": []
    },
    {
      "cell_type": "markdown",
      "source": [
        "***note:*** execute in a termial 'watch -n 0.5 nvidia-smi' to see the GPU usage and when the model is loaded onto it"
      ],
      "metadata": {
        "id": "miDHXD2eVMXh"
      }
    },
    {
      "cell_type": "code",
      "source": [
        "%%time\n",
        "\n",
        "from transformers import AutoModelForCausalLM, BitsAndBytesConfig\n",
        "import torch\n",
        "\n",
        "torch_dtype = None\n",
        "quantization_config = None\n",
        "\n",
        "\n",
        "if \"8bit\" in kind:\n",
        "  print(\"Using 8Bit quantization\")\n",
        "  quantization_config = BitsAndBytesConfig(load_in_8bit=True)\n",
        "elif \"4bit\" in kind:\n",
        "  print(\"Using 4Bit quantization\")\n",
        "  # quantization_config = BitsAndBytesConfig(load_in_4bit=True)\n",
        "  quantization_config = BitsAndBytesConfig(\n",
        "    load_in_4bit=True,\n",
        "    bnb_4bit_quant_type=\"nf4\",\n",
        "    bnb_4bit_use_double_quant=True,\n",
        "    bnb_4bit_compute_dtype=torch.bfloat16\n",
        "  )\n",
        "else:\n",
        "  print(\"Using Full Resolution\")\n",
        "  torch_dtype = torch.bfloat16\n",
        "\n",
        "model = AutoModelForCausalLM.from_pretrained(\n",
        "    model_id,\n",
        "    quantization_config=quantization_config,\n",
        "    torch_dtype=torch_dtype,\n",
        "    device_map=\"cuda\",\n",
        "    trust_remote_code=True\n",
        ")"
      ],
      "metadata": {
        "colab": {
          "base_uri": "https://localhost:8080/",
          "height": 103,
          "referenced_widgets": [
            "4037eba57c66455fb94d7412fa6fc7a3",
            "6a218dc83dca42a198d50d9785f34325",
            "52a9130f172545d8b5bf54af39ac0ad0",
            "71cc95df646a4e2da95e595d4d053442",
            "3be7bc89d40849178a24daa77fca0af9",
            "d43eb960f051448dbf86a4e1b862182d",
            "4618dba1d0ad497d8afef572edcb16ee",
            "b92029873a614115ac50e688d9d72437",
            "a90dee46b28b495a92077f1beab3abd3",
            "f45c6292924a4499ba0266ed957a4d12",
            "79b1bb7ce201403f8a518c32b7319218"
          ]
        },
        "id": "SK7DWCkEsLdv",
        "outputId": "d264e77e-d415-40e8-ec7e-0587ee4f8c18"
      },
      "execution_count": 12,
      "outputs": [
        {
          "output_type": "stream",
          "name": "stdout",
          "text": [
            "Using Full Resolution\n"
          ]
        },
        {
          "output_type": "display_data",
          "data": {
            "text/plain": [
              "Loading checkpoint shards:   0%|          | 0/2 [00:00<?, ?it/s]"
            ],
            "application/vnd.jupyter.widget-view+json": {
              "version_major": 2,
              "version_minor": 0,
              "model_id": "4037eba57c66455fb94d7412fa6fc7a3"
            }
          },
          "metadata": {}
        },
        {
          "output_type": "stream",
          "name": "stdout",
          "text": [
            "CPU times: user 7.37 s, sys: 1.32 s, total: 8.69 s\n",
            "Wall time: 7.92 s\n"
          ]
        }
      ]
    },
    {
      "cell_type": "code",
      "source": [
        "!nvidia-smi"
      ],
      "metadata": {
        "id": "z8oNcTA51SAm",
        "outputId": "768b0097-20fb-4ab3-c9e5-07fd3c630337",
        "colab": {
          "base_uri": "https://localhost:8080/"
        }
      },
      "execution_count": 13,
      "outputs": [
        {
          "output_type": "stream",
          "name": "stdout",
          "text": [
            "Sun Oct 27 16:42:47 2024       \n",
            "+---------------------------------------------------------------------------------------+\n",
            "| NVIDIA-SMI 535.104.05             Driver Version: 535.104.05   CUDA Version: 12.2     |\n",
            "|-----------------------------------------+----------------------+----------------------+\n",
            "| GPU  Name                 Persistence-M | Bus-Id        Disp.A | Volatile Uncorr. ECC |\n",
            "| Fan  Temp   Perf          Pwr:Usage/Cap |         Memory-Usage | GPU-Util  Compute M. |\n",
            "|                                         |                      |               MIG M. |\n",
            "|=========================================+======================+======================|\n",
            "|   0  NVIDIA L4                      Off | 00000000:00:03.0 Off |                    0 |\n",
            "| N/A   47C    P0              28W /  72W |   6365MiB / 23034MiB |      0%      Default |\n",
            "|                                         |                      |                  N/A |\n",
            "+-----------------------------------------+----------------------+----------------------+\n",
            "                                                                                         \n",
            "+---------------------------------------------------------------------------------------+\n",
            "| Processes:                                                                            |\n",
            "|  GPU   GI   CI        PID   Type   Process name                            GPU Memory |\n",
            "|        ID   ID                                                             Usage      |\n",
            "|=======================================================================================|\n",
            "+---------------------------------------------------------------------------------------+\n"
          ]
        }
      ]
    },
    {
      "cell_type": "code",
      "source": [
        "positive_en = [\n",
        "  \"With the diagnosis named here, the need for compensation to ensure the basic need is conceivable.\",\n",
        "  \"The socio-medical prerequisites for the prescribed aid supply have been met.\",\n",
        "  \"Everyday relevant usage benefits have been determined.\",\n",
        "  \"Socio-medical indication for the aid is confirmed.\",\n",
        "  \"Contraindications have been excluded; there are no contraindications for the use of the requested aid.\"\n",
        "]"
      ],
      "metadata": {
        "id": "-V0LQbkdTDoD"
      },
      "execution_count": 14,
      "outputs": []
    },
    {
      "cell_type": "code",
      "source": [
        "negative_en = [\n",
        "  \"No specific findings can be derived from the diagnosis currently named as the basis for the regulation.\",\n",
        "  \"According to the service extracts from the health insurance, the insured has already been provided with the functional product requested according to its area of application.\",\n",
        "  \"A medically comprehensible explanation as to why the use of an orthopedic aid corresponding to the findings is not sufficient and instead electric foot lifter stimulation for walking would be more appropriate and therefore necessary has not been transmitted.\",\n",
        "  \"From an overall view of the information available here, it cannot be seen how the supply of the insured with the product could be justified, nor can the safety of such a supply be confirmed.\",\n",
        "  \"A medical justification for why a product not listed in the directory of aids should be used in the present case has not been transmitted.\"\n",
        "]"
      ],
      "metadata": {
        "id": "8mu2wI-9TVYU"
      },
      "execution_count": 15,
      "outputs": []
    },
    {
      "cell_type": "code",
      "source": [
        "positive_de = [\n",
        "  \"Bei der hier benannten Diagnose ist das Erfordernis eines Ausgleichs zur Sicherstellung des Grundbedürfnisses denkbar.\",\n",
        "  \"Die sozialmedizinischen Voraussetzungen für die verordnete Hilfsmittelversorgung sind erfüllt.\",\n",
        "  \"Alltagsrelevante Gebrauchsvorteile werden festgestellt.\",\n",
        "  \"Sozialmedizinische Indikation für das Hilfsmittel wird bestätigt.\",\n",
        "  \"Kontraindikationen wurden ausgeschlossen, es liegen keine Gegenanzeigen für die Verwendung des beantragten Hilfsmittels vor.\"\n",
        "]"
      ],
      "metadata": {
        "id": "PkFlXrwuuH_c"
      },
      "execution_count": 16,
      "outputs": []
    },
    {
      "cell_type": "code",
      "source": [
        "negative_de = [\n",
        "  \"Aus der aktuell als verordnungsbegründend benannten Diagnose lässt sich kein konkreter Befund ableiten.\",\n",
        "  \"Gemäß den Leistungsauszügen der Krankenkasse ist der Versicherte bereits entsprechend dem Einsatzbereich des beantragten funktionellen Produkt versorgt.\",\n",
        "  \"Eine medizinisch nachvollziehbare Begründung, weshalb der Einsatz einer befundadäquaten orthopädietechnischen Hilfsmittelversorgung nicht ausreichend und stattdessen eine elektrische Fußheberstimulation zum Gehen zweckmäßiger und deshalb notwendig wäre, wurde nicht übermittelt.\",\n",
        "  \"In der Gesamtschau der hier vorliegenden Informationen kann nicht erkannt werden, wie die Versorgung des Versicherten mit dem Produkt begründet werden könnte, noch kann die Unbedenklichkeit einer solchen Versorgung bestätigt werden.\",\n",
        "  \"Eine ärztliche Begründung, warum im vorliegenden Fall ein nicht im Hilfsmittelverzeichnis gelistetes Produkt zum Einsatz kommen soll, wird nicht übermittelt.\"\n",
        "]"
      ],
      "metadata": {
        "id": "K2D3Y5K1uJpp"
      },
      "execution_count": 17,
      "outputs": []
    },
    {
      "cell_type": "code",
      "source": [
        "\n",
        "if lang == \"de\":\n",
        "  negative = negative_de\n",
        "  positive = positive_de\n",
        "else:\n",
        "  negative = negative_en\n",
        "  positive = positive_en"
      ],
      "metadata": {
        "id": "8Mg3YZG2t-Iq"
      },
      "execution_count": 18,
      "outputs": []
    },
    {
      "cell_type": "code",
      "source": [
        "idx = 0\n",
        "# assessment = negative[idx]\n",
        "assessment = positive[idx]\n",
        "\n",
        "assessment"
      ],
      "metadata": {
        "id": "YGUixjbJTa6D",
        "colab": {
          "base_uri": "https://localhost:8080/",
          "height": 35
        },
        "outputId": "05c41fc1-11b9-4624-a17d-d8c5c8e41a68"
      },
      "execution_count": 19,
      "outputs": [
        {
          "output_type": "execute_result",
          "data": {
            "text/plain": [
              "'Bei der hier benannten Diagnose ist das Erfordernis eines Ausgleichs zur Sicherstellung des Grundbedürfnisses denkbar.'"
            ],
            "application/vnd.google.colaboratory.intrinsic+json": {
              "type": "string"
            }
          },
          "metadata": {},
          "execution_count": 19
        }
      ]
    },
    {
      "cell_type": "code",
      "source": [
        "%%time\n",
        "\n",
        "if lang == \"de\":\n",
        "  messages = [\n",
        "    {\"role\": \"system\", \"content\": \"Du bist ein kompetenter Experte auf dem Gebiet der gesetzlichen Krankenversicherung und sprichst Deutsch. Antworte präzise, ernst und formell.\"},\n",
        "    {\"role\": \"user\", \"content\": f'''\n",
        "    Was ist das Ergebnis der Bewertung? Wird eine positive oder negative Empfehlung gegeben? Antworte mit 'Ja' oder 'Nein' und gib anschließend eine sehr kurze Begründung für die Einschätzung.\"\n",
        "\n",
        "    # Assessment\n",
        "    {assessment}\n",
        "\n",
        "    '''}\n",
        "  ]\n",
        "else:\n",
        "  messages = [\n",
        "    {\"role\": \"system\", \"content\": \"You are an English-speaking, competent expert in the field of statutory health insurance. Answer consice, serious and formal.\"},\n",
        "    {\"role\": \"user\", \"content\": f'''\n",
        "What is the result of the assessment? Is a positive or negative recommendation given? Answer with \"Yes\" or \"No\" and then provide a brief justification for your assessment.\n",
        "\n",
        "# Assessment\n",
        "{assessment}\n",
        "\n",
        "'''}\n",
        "]\n",
        "\n",
        "input_ids = tokenizer.apply_chat_template(\n",
        "    messages,\n",
        "    add_generation_prompt=True,\n",
        "    return_tensors=\"pt\"\n",
        ").to(model.device)\n",
        "\n",
        "terminators = [\n",
        "    tokenizer.eos_token_id,\n",
        "    tokenizer.convert_tokens_to_ids(\"<|eot_id|>\")\n",
        "]\n",
        "\n",
        "outputs = model.generate(\n",
        "    input_ids,\n",
        "    max_new_tokens=512,\n",
        "    eos_token_id=terminators,\n",
        "    pad_token_id=tokenizer.eos_token_id,\n",
        "    do_sample=False\n",
        ")\n",
        "response = outputs[0][input_ids.shape[-1]:]\n",
        "Markdown(tokenizer.decode(response, skip_special_tokens=True))"
      ],
      "metadata": {
        "id": "CoxgSA_Xz0oN",
        "outputId": "a436595c-3a9e-415e-cc4a-3f4718882735",
        "colab": {
          "base_uri": "https://localhost:8080/",
          "height": 161
        }
      },
      "execution_count": 20,
      "outputs": [
        {
          "output_type": "stream",
          "name": "stderr",
          "text": [
            "The attention mask is not set and cannot be inferred from input because pad token is same as eos token. As a consequence, you may observe unexpected behavior. Please pass your input's `attention_mask` to obtain reliable results.\n"
          ]
        },
        {
          "output_type": "stream",
          "name": "stdout",
          "text": [
            "CPU times: user 2.67 s, sys: 210 ms, total: 2.88 s\n",
            "Wall time: 2.9 s\n"
          ]
        },
        {
          "output_type": "execute_result",
          "data": {
            "text/plain": [
              "<IPython.core.display.Markdown object>"
            ],
            "text/markdown": "Ja\n\nDie Bewertung deutet darauf hin, dass die Diagnose unter Berücksichtigung des Grundbedürfnisses bewertet werden kann, was darauf hindeutet, dass eine positive Empfehlung gegeben werden kann."
          },
          "metadata": {},
          "execution_count": 20
        }
      ]
    },
    {
      "cell_type": "code",
      "source": [
        "def eval_assessment(assessment):\n",
        "  if lang == \"de\":\n",
        "    yes = \"Ja\"\n",
        "    no = \"Nein\"\n",
        "    messages = [\n",
        "  {\"role\": \"system\", \"content\": \"Du bist ein kompetenter Experte auf dem Gebiet der gesetzlichen Krankenversicherung und sprichst Deutsch. Antworte präzise, ernst und formell.\"},\n",
        "  {\"role\": \"user\", \"content\": f'''\n",
        "  Was ist das Ergebnis der Bewertung? Wird eine positive oder negative Empfehlung gegeben? Antworte mit 'Ja' oder 'Nein' und gib anschließend eine sehr kurze Begründung für die Einschätzung.\"\n",
        "\n",
        "  # Assessment\n",
        "  {assessment}\n",
        "\n",
        "  '''}\n",
        "  ]\n",
        "  else:\n",
        "    yes = \"Yes\"\n",
        "    no = \"No\"\n",
        "    messages = [\n",
        "      {\"role\": \"system\", \"content\": \"You are an English-speaking, competent expert in the field of statutory health insurance. Answer consice, serious and formal.\"},\n",
        "      {\"role\": \"user\", \"content\": f'''\n",
        "  What is the result of the assessment? Is a positive or negative recommendation given? Answer with \"Yes\" or \"No\" and then provide a brief justification for your assessment.\n",
        "\n",
        "  # Assessment\n",
        "  {assessment}\n",
        "\n",
        "  '''}\n",
        "  ]\n",
        "\n",
        "  input_ids = tokenizer.apply_chat_template(\n",
        "      messages,\n",
        "      add_generation_prompt=True,\n",
        "      return_tensors=\"pt\"\n",
        "  ).to(model.device)\n",
        "\n",
        "  terminators = [\n",
        "      tokenizer.eos_token_id,\n",
        "      tokenizer.convert_tokens_to_ids(\"<|eot_id|>\")\n",
        "  ]\n",
        "\n",
        "  outputs = model.generate(\n",
        "      input_ids,\n",
        "      max_new_tokens=512,\n",
        "      eos_token_id=terminators,\n",
        "      pad_token_id=tokenizer.eos_token_id,\n",
        "      do_sample=False\n",
        "  )\n",
        "  response = outputs[0][input_ids.shape[-1]:]\n",
        "  result = tokenizer.decode(response, skip_special_tokens=True)\n",
        "  if result.startswith(yes):\n",
        "    return \"Positive\", result\n",
        "  elif result.startswith(no):\n",
        "    return \"Negative\", result\n",
        "  else:\n",
        "    return \"Neutral\", result"
      ],
      "metadata": {
        "id": "kS5CfvlVTSjo"
      },
      "execution_count": 21,
      "outputs": []
    },
    {
      "cell_type": "markdown",
      "source": [
        "## Negative"
      ],
      "metadata": {
        "id": "reHbxlx1VGcS"
      }
    },
    {
      "cell_type": "code",
      "source": [
        "%%time\n",
        "\n",
        "negative_results = []\n",
        "negative_explanations = []\n",
        "\n",
        "for assessment in negative:\n",
        "  print(f\"Assessment: {assessment}\")\n",
        "  result, explanation = eval_assessment(assessment)\n",
        "  negative_results.append(result)\n",
        "  negative_explanations.append(explanation)\n",
        "  print(f\"{result}: {explanation}\")\n",
        "  print(\"-----\")"
      ],
      "metadata": {
        "id": "otADLjgLTwZB",
        "outputId": "e36b6ea5-ee48-42b6-ee6d-0edbc195be45",
        "colab": {
          "base_uri": "https://localhost:8080/"
        }
      },
      "execution_count": 22,
      "outputs": [
        {
          "output_type": "stream",
          "name": "stdout",
          "text": [
            "Assessment: Aus der aktuell als verordnungsbegründend benannten Diagnose lässt sich kein konkreter Befund ableiten.\n",
            "Negative: Nein\n",
            "\n",
            "Da aus der Diagnose kein konkreter Befund abgeleitet werden kann, kann eine Bewertung oder Empfehlung nicht erfolgen.\n",
            "-----\n",
            "Assessment: Gemäß den Leistungsauszügen der Krankenkasse ist der Versicherte bereits entsprechend dem Einsatzbereich des beantragten funktionellen Produkt versorgt.\n",
            "Negative: Nein\n",
            "\n",
            "Die Krankenkasse hat bereits den Versicherten entsprechend dem Einsatzbereich des beantragten funktionellen Produkts versorgt, was bedeutet, dass eine weitere Bewertung oder Empfehlung nicht erforderlich ist.\n",
            "-----\n",
            "Assessment: Eine medizinisch nachvollziehbare Begründung, weshalb der Einsatz einer befundadäquaten orthopädietechnischen Hilfsmittelversorgung nicht ausreichend und stattdessen eine elektrische Fußheberstimulation zum Gehen zweckmäßiger und deshalb notwendig wäre, wurde nicht übermittelt.\n",
            "Negative: Nein\n",
            "\n",
            "Die Bewertung enthält keine positive Empfehlung, sondern eine negative Einschätzung, da es sich um eine \"nicht ausreichende\" Bewertung handelt, die den Einsatz einer bestimmten Hilfsmittelversorgung ablehnt.\n",
            "-----\n",
            "Assessment: In der Gesamtschau der hier vorliegenden Informationen kann nicht erkannt werden, wie die Versorgung des Versicherten mit dem Produkt begründet werden könnte, noch kann die Unbedenklichkeit einer solchen Versorgung bestätigt werden.\n",
            "Negative: Nein\n",
            "\n",
            "Die Bewertung kann keine positive Empfehlung geben, da die Unbedenklichkeit der Versorgung nicht bestätigt werden kann.\n",
            "-----\n",
            "Assessment: Eine ärztliche Begründung, warum im vorliegenden Fall ein nicht im Hilfsmittelverzeichnis gelistetes Produkt zum Einsatz kommen soll, wird nicht übermittelt.\n",
            "Negative: Nein\n",
            "\n",
            "Die Bewertung erfolgt ohne eine ausreichende ärztliche Begründung, was die Grundlage für eine fundierte Entscheidung nicht bildet.\n",
            "-----\n",
            "CPU times: user 8 s, sys: 29.3 ms, total: 8.03 s\n",
            "Wall time: 8.01 s\n"
          ]
        }
      ]
    },
    {
      "cell_type": "markdown",
      "source": [
        "## Positive"
      ],
      "metadata": {
        "id": "2bBV2H-UVIuH"
      }
    },
    {
      "cell_type": "code",
      "source": [
        "%%time\n",
        "\n",
        "positive_results = []\n",
        "positive_explanations = []\n",
        "\n",
        "for assessment in positive:\n",
        "  print(f\"Assessment: {assessment}\")\n",
        "  result, explanation = eval_assessment(assessment)\n",
        "  positive_results.append(result)\n",
        "  positive_explanations.append(explanation)\n",
        "  print(f\"{result}: {explanation}\")\n",
        "  print(\"-----\")"
      ],
      "metadata": {
        "id": "w3jE_bwWVJlu",
        "outputId": "66ab4c3f-df41-4fd5-8bdb-ae6290b08192",
        "colab": {
          "base_uri": "https://localhost:8080/"
        }
      },
      "execution_count": 23,
      "outputs": [
        {
          "output_type": "stream",
          "name": "stdout",
          "text": [
            "Assessment: Bei der hier benannten Diagnose ist das Erfordernis eines Ausgleichs zur Sicherstellung des Grundbedürfnisses denkbar.\n",
            "Positive: Ja\n",
            "\n",
            "Die Bewertung deutet darauf hin, dass eine positive Empfehlung gegeben werden kann, da das Erfordernis eines Ausgleichs zur Sicherstellung des Grundbedürfnisses als notwendig angesehen wird.\n",
            "-----\n",
            "Assessment: Die sozialmedizinischen Voraussetzungen für die verordnete Hilfsmittelversorgung sind erfüllt.\n",
            "Positive: Ja\n",
            "\n",
            "Die sozialmedizinischen Voraussetzungen sind erfüllt, was eine positive Bewertung und Empfehlung für die verordnete Hilfsmittelversorgung bedeutet.\n",
            "-----\n",
            "Assessment: Alltagsrelevante Gebrauchsvorteile werden festgestellt.\n",
            "Negative: Nein\n",
            "\n",
            "Die Bewertung konzentriert sich auf die Feststellung alltäglicher Gebrauchsvorteile, was darauf hindeutet, dass die Bewertung eher eine Analyse oder eine Bewertung der Funktionalität und Benutzerfreundlichkeit ist, als eine Bewertung der Qualität oder Wirksamkeit. Es gibt keine direkte Empfehlung oder Bewertung in Form von \"positiv\" oder \"negativ\".\n",
            "-----\n",
            "Assessment: Sozialmedizinische Indikation für das Hilfsmittel wird bestätigt.\n",
            "Positive: Ja\n",
            "\n",
            "Die Bewertung bestätigt eine sozialmedizinische Indikation für das Hilfsmittel, was auf eine positive Empfehlung hindeutet.\n",
            "-----\n",
            "Assessment: Kontraindikationen wurden ausgeschlossen, es liegen keine Gegenanzeigen für die Verwendung des beantragten Hilfsmittels vor.\n",
            "Positive: Ja\n",
            "\n",
            "Da keine Gegenanzeigen für die Verwendung des Hilfsmittels vorliegen, kann eine positive Empfehlung abgeleitet werden.\n",
            "-----\n",
            "CPU times: user 9.91 s, sys: 12.7 ms, total: 9.92 s\n",
            "Wall time: 9.9 s\n"
          ]
        }
      ]
    },
    {
      "cell_type": "code",
      "source": [
        "!nvidia-smi"
      ],
      "metadata": {
        "id": "WZr-hfVH6Nsx",
        "outputId": "a9abfb09-cd65-43c2-f110-3c739b2fb698",
        "colab": {
          "base_uri": "https://localhost:8080/"
        }
      },
      "execution_count": 24,
      "outputs": [
        {
          "output_type": "stream",
          "name": "stdout",
          "text": [
            "Sun Oct 27 16:43:08 2024       \n",
            "+---------------------------------------------------------------------------------------+\n",
            "| NVIDIA-SMI 535.104.05             Driver Version: 535.104.05   CUDA Version: 12.2     |\n",
            "|-----------------------------------------+----------------------+----------------------+\n",
            "| GPU  Name                 Persistence-M | Bus-Id        Disp.A | Volatile Uncorr. ECC |\n",
            "| Fan  Temp   Perf          Pwr:Usage/Cap |         Memory-Usage | GPU-Util  Compute M. |\n",
            "|                                         |                      |               MIG M. |\n",
            "|=========================================+======================+======================|\n",
            "|   0  NVIDIA L4                      Off | 00000000:00:03.0 Off |                    0 |\n",
            "| N/A   56C    P0              70W /  72W |   6471MiB / 23034MiB |     81%      Default |\n",
            "|                                         |                      |                  N/A |\n",
            "+-----------------------------------------+----------------------+----------------------+\n",
            "                                                                                         \n",
            "+---------------------------------------------------------------------------------------+\n",
            "| Processes:                                                                            |\n",
            "|  GPU   GI   CI        PID   Type   Process name                            GPU Memory |\n",
            "|        ID   ID                                                             Usage      |\n",
            "|=======================================================================================|\n",
            "+---------------------------------------------------------------------------------------+\n"
          ]
        }
      ]
    },
    {
      "cell_type": "code",
      "source": [
        "import pandas as pd\n",
        "\n",
        "df = pd.DataFrame({\n",
        "    'assesment': negative + positive,\n",
        "    'y_true': ['Negative'] * len(negative) + ['Positive'] * len(positive),\n",
        "    'y_hat': negative_results + positive_results,\n",
        "    'explanation': negative_explanations + positive_explanations\n",
        "})\n",
        "df"
      ],
      "metadata": {
        "id": "ha2oxPvtNBLg",
        "outputId": "eb2506ed-1943-415b-8f4e-ed50ff0e282f",
        "colab": {
          "base_uri": "https://localhost:8080/",
          "height": 363
        }
      },
      "execution_count": 25,
      "outputs": [
        {
          "output_type": "execute_result",
          "data": {
            "text/plain": [
              "                                           assesment    y_true     y_hat  \\\n",
              "0  Aus der aktuell als verordnungsbegründend bena...  Negative  Negative   \n",
              "1  Gemäß den Leistungsauszügen der Krankenkasse i...  Negative  Negative   \n",
              "2  Eine medizinisch nachvollziehbare Begründung, ...  Negative  Negative   \n",
              "3  In der Gesamtschau der hier vorliegenden Infor...  Negative  Negative   \n",
              "4  Eine ärztliche Begründung, warum im vorliegend...  Negative  Negative   \n",
              "5  Bei der hier benannten Diagnose ist das Erford...  Positive  Positive   \n",
              "6  Die sozialmedizinischen Voraussetzungen für di...  Positive  Positive   \n",
              "7  Alltagsrelevante Gebrauchsvorteile werden fest...  Positive  Negative   \n",
              "8  Sozialmedizinische Indikation für das Hilfsmit...  Positive  Positive   \n",
              "9  Kontraindikationen wurden ausgeschlossen, es l...  Positive  Positive   \n",
              "\n",
              "                                         explanation  \n",
              "0  Nein\\n\\nDa aus der Diagnose kein konkreter Bef...  \n",
              "1  Nein\\n\\nDie Krankenkasse hat bereits den Versi...  \n",
              "2  Nein\\n\\nDie Bewertung enthält keine positive E...  \n",
              "3  Nein\\n\\nDie Bewertung kann keine positive Empf...  \n",
              "4  Nein\\n\\nDie Bewertung erfolgt ohne eine ausrei...  \n",
              "5  Ja\\n\\nDie Bewertung deutet darauf hin, dass ei...  \n",
              "6  Ja\\n\\nDie sozialmedizinischen Voraussetzungen ...  \n",
              "7  Nein\\n\\nDie Bewertung konzentriert sich auf di...  \n",
              "8  Ja\\n\\nDie Bewertung bestätigt eine sozialmediz...  \n",
              "9  Ja\\n\\nDa keine Gegenanzeigen für die Verwendun...  "
            ],
            "text/html": [
              "\n",
              "  <div id=\"df-0722eb83-ab2e-419f-8292-9cd991e9f61a\" class=\"colab-df-container\">\n",
              "    <div>\n",
              "<style scoped>\n",
              "    .dataframe tbody tr th:only-of-type {\n",
              "        vertical-align: middle;\n",
              "    }\n",
              "\n",
              "    .dataframe tbody tr th {\n",
              "        vertical-align: top;\n",
              "    }\n",
              "\n",
              "    .dataframe thead th {\n",
              "        text-align: right;\n",
              "    }\n",
              "</style>\n",
              "<table border=\"1\" class=\"dataframe\">\n",
              "  <thead>\n",
              "    <tr style=\"text-align: right;\">\n",
              "      <th></th>\n",
              "      <th>assesment</th>\n",
              "      <th>y_true</th>\n",
              "      <th>y_hat</th>\n",
              "      <th>explanation</th>\n",
              "    </tr>\n",
              "  </thead>\n",
              "  <tbody>\n",
              "    <tr>\n",
              "      <th>0</th>\n",
              "      <td>Aus der aktuell als verordnungsbegründend bena...</td>\n",
              "      <td>Negative</td>\n",
              "      <td>Negative</td>\n",
              "      <td>Nein\\n\\nDa aus der Diagnose kein konkreter Bef...</td>\n",
              "    </tr>\n",
              "    <tr>\n",
              "      <th>1</th>\n",
              "      <td>Gemäß den Leistungsauszügen der Krankenkasse i...</td>\n",
              "      <td>Negative</td>\n",
              "      <td>Negative</td>\n",
              "      <td>Nein\\n\\nDie Krankenkasse hat bereits den Versi...</td>\n",
              "    </tr>\n",
              "    <tr>\n",
              "      <th>2</th>\n",
              "      <td>Eine medizinisch nachvollziehbare Begründung, ...</td>\n",
              "      <td>Negative</td>\n",
              "      <td>Negative</td>\n",
              "      <td>Nein\\n\\nDie Bewertung enthält keine positive E...</td>\n",
              "    </tr>\n",
              "    <tr>\n",
              "      <th>3</th>\n",
              "      <td>In der Gesamtschau der hier vorliegenden Infor...</td>\n",
              "      <td>Negative</td>\n",
              "      <td>Negative</td>\n",
              "      <td>Nein\\n\\nDie Bewertung kann keine positive Empf...</td>\n",
              "    </tr>\n",
              "    <tr>\n",
              "      <th>4</th>\n",
              "      <td>Eine ärztliche Begründung, warum im vorliegend...</td>\n",
              "      <td>Negative</td>\n",
              "      <td>Negative</td>\n",
              "      <td>Nein\\n\\nDie Bewertung erfolgt ohne eine ausrei...</td>\n",
              "    </tr>\n",
              "    <tr>\n",
              "      <th>5</th>\n",
              "      <td>Bei der hier benannten Diagnose ist das Erford...</td>\n",
              "      <td>Positive</td>\n",
              "      <td>Positive</td>\n",
              "      <td>Ja\\n\\nDie Bewertung deutet darauf hin, dass ei...</td>\n",
              "    </tr>\n",
              "    <tr>\n",
              "      <th>6</th>\n",
              "      <td>Die sozialmedizinischen Voraussetzungen für di...</td>\n",
              "      <td>Positive</td>\n",
              "      <td>Positive</td>\n",
              "      <td>Ja\\n\\nDie sozialmedizinischen Voraussetzungen ...</td>\n",
              "    </tr>\n",
              "    <tr>\n",
              "      <th>7</th>\n",
              "      <td>Alltagsrelevante Gebrauchsvorteile werden fest...</td>\n",
              "      <td>Positive</td>\n",
              "      <td>Negative</td>\n",
              "      <td>Nein\\n\\nDie Bewertung konzentriert sich auf di...</td>\n",
              "    </tr>\n",
              "    <tr>\n",
              "      <th>8</th>\n",
              "      <td>Sozialmedizinische Indikation für das Hilfsmit...</td>\n",
              "      <td>Positive</td>\n",
              "      <td>Positive</td>\n",
              "      <td>Ja\\n\\nDie Bewertung bestätigt eine sozialmediz...</td>\n",
              "    </tr>\n",
              "    <tr>\n",
              "      <th>9</th>\n",
              "      <td>Kontraindikationen wurden ausgeschlossen, es l...</td>\n",
              "      <td>Positive</td>\n",
              "      <td>Positive</td>\n",
              "      <td>Ja\\n\\nDa keine Gegenanzeigen für die Verwendun...</td>\n",
              "    </tr>\n",
              "  </tbody>\n",
              "</table>\n",
              "</div>\n",
              "    <div class=\"colab-df-buttons\">\n",
              "\n",
              "  <div class=\"colab-df-container\">\n",
              "    <button class=\"colab-df-convert\" onclick=\"convertToInteractive('df-0722eb83-ab2e-419f-8292-9cd991e9f61a')\"\n",
              "            title=\"Convert this dataframe to an interactive table.\"\n",
              "            style=\"display:none;\">\n",
              "\n",
              "  <svg xmlns=\"http://www.w3.org/2000/svg\" height=\"24px\" viewBox=\"0 -960 960 960\">\n",
              "    <path d=\"M120-120v-720h720v720H120Zm60-500h600v-160H180v160Zm220 220h160v-160H400v160Zm0 220h160v-160H400v160ZM180-400h160v-160H180v160Zm440 0h160v-160H620v160ZM180-180h160v-160H180v160Zm440 0h160v-160H620v160Z\"/>\n",
              "  </svg>\n",
              "    </button>\n",
              "\n",
              "  <style>\n",
              "    .colab-df-container {\n",
              "      display:flex;\n",
              "      gap: 12px;\n",
              "    }\n",
              "\n",
              "    .colab-df-convert {\n",
              "      background-color: #E8F0FE;\n",
              "      border: none;\n",
              "      border-radius: 50%;\n",
              "      cursor: pointer;\n",
              "      display: none;\n",
              "      fill: #1967D2;\n",
              "      height: 32px;\n",
              "      padding: 0 0 0 0;\n",
              "      width: 32px;\n",
              "    }\n",
              "\n",
              "    .colab-df-convert:hover {\n",
              "      background-color: #E2EBFA;\n",
              "      box-shadow: 0px 1px 2px rgba(60, 64, 67, 0.3), 0px 1px 3px 1px rgba(60, 64, 67, 0.15);\n",
              "      fill: #174EA6;\n",
              "    }\n",
              "\n",
              "    .colab-df-buttons div {\n",
              "      margin-bottom: 4px;\n",
              "    }\n",
              "\n",
              "    [theme=dark] .colab-df-convert {\n",
              "      background-color: #3B4455;\n",
              "      fill: #D2E3FC;\n",
              "    }\n",
              "\n",
              "    [theme=dark] .colab-df-convert:hover {\n",
              "      background-color: #434B5C;\n",
              "      box-shadow: 0px 1px 3px 1px rgba(0, 0, 0, 0.15);\n",
              "      filter: drop-shadow(0px 1px 2px rgba(0, 0, 0, 0.3));\n",
              "      fill: #FFFFFF;\n",
              "    }\n",
              "  </style>\n",
              "\n",
              "    <script>\n",
              "      const buttonEl =\n",
              "        document.querySelector('#df-0722eb83-ab2e-419f-8292-9cd991e9f61a button.colab-df-convert');\n",
              "      buttonEl.style.display =\n",
              "        google.colab.kernel.accessAllowed ? 'block' : 'none';\n",
              "\n",
              "      async function convertToInteractive(key) {\n",
              "        const element = document.querySelector('#df-0722eb83-ab2e-419f-8292-9cd991e9f61a');\n",
              "        const dataTable =\n",
              "          await google.colab.kernel.invokeFunction('convertToInteractive',\n",
              "                                                    [key], {});\n",
              "        if (!dataTable) return;\n",
              "\n",
              "        const docLinkHtml = 'Like what you see? Visit the ' +\n",
              "          '<a target=\"_blank\" href=https://colab.research.google.com/notebooks/data_table.ipynb>data table notebook</a>'\n",
              "          + ' to learn more about interactive tables.';\n",
              "        element.innerHTML = '';\n",
              "        dataTable['output_type'] = 'display_data';\n",
              "        await google.colab.output.renderOutput(dataTable, element);\n",
              "        const docLink = document.createElement('div');\n",
              "        docLink.innerHTML = docLinkHtml;\n",
              "        element.appendChild(docLink);\n",
              "      }\n",
              "    </script>\n",
              "  </div>\n",
              "\n",
              "\n",
              "<div id=\"df-30dba2f7-94a3-47e9-8110-ddad72510911\">\n",
              "  <button class=\"colab-df-quickchart\" onclick=\"quickchart('df-30dba2f7-94a3-47e9-8110-ddad72510911')\"\n",
              "            title=\"Suggest charts\"\n",
              "            style=\"display:none;\">\n",
              "\n",
              "<svg xmlns=\"http://www.w3.org/2000/svg\" height=\"24px\"viewBox=\"0 0 24 24\"\n",
              "     width=\"24px\">\n",
              "    <g>\n",
              "        <path d=\"M19 3H5c-1.1 0-2 .9-2 2v14c0 1.1.9 2 2 2h14c1.1 0 2-.9 2-2V5c0-1.1-.9-2-2-2zM9 17H7v-7h2v7zm4 0h-2V7h2v10zm4 0h-2v-4h2v4z\"/>\n",
              "    </g>\n",
              "</svg>\n",
              "  </button>\n",
              "\n",
              "<style>\n",
              "  .colab-df-quickchart {\n",
              "      --bg-color: #E8F0FE;\n",
              "      --fill-color: #1967D2;\n",
              "      --hover-bg-color: #E2EBFA;\n",
              "      --hover-fill-color: #174EA6;\n",
              "      --disabled-fill-color: #AAA;\n",
              "      --disabled-bg-color: #DDD;\n",
              "  }\n",
              "\n",
              "  [theme=dark] .colab-df-quickchart {\n",
              "      --bg-color: #3B4455;\n",
              "      --fill-color: #D2E3FC;\n",
              "      --hover-bg-color: #434B5C;\n",
              "      --hover-fill-color: #FFFFFF;\n",
              "      --disabled-bg-color: #3B4455;\n",
              "      --disabled-fill-color: #666;\n",
              "  }\n",
              "\n",
              "  .colab-df-quickchart {\n",
              "    background-color: var(--bg-color);\n",
              "    border: none;\n",
              "    border-radius: 50%;\n",
              "    cursor: pointer;\n",
              "    display: none;\n",
              "    fill: var(--fill-color);\n",
              "    height: 32px;\n",
              "    padding: 0;\n",
              "    width: 32px;\n",
              "  }\n",
              "\n",
              "  .colab-df-quickchart:hover {\n",
              "    background-color: var(--hover-bg-color);\n",
              "    box-shadow: 0 1px 2px rgba(60, 64, 67, 0.3), 0 1px 3px 1px rgba(60, 64, 67, 0.15);\n",
              "    fill: var(--button-hover-fill-color);\n",
              "  }\n",
              "\n",
              "  .colab-df-quickchart-complete:disabled,\n",
              "  .colab-df-quickchart-complete:disabled:hover {\n",
              "    background-color: var(--disabled-bg-color);\n",
              "    fill: var(--disabled-fill-color);\n",
              "    box-shadow: none;\n",
              "  }\n",
              "\n",
              "  .colab-df-spinner {\n",
              "    border: 2px solid var(--fill-color);\n",
              "    border-color: transparent;\n",
              "    border-bottom-color: var(--fill-color);\n",
              "    animation:\n",
              "      spin 1s steps(1) infinite;\n",
              "  }\n",
              "\n",
              "  @keyframes spin {\n",
              "    0% {\n",
              "      border-color: transparent;\n",
              "      border-bottom-color: var(--fill-color);\n",
              "      border-left-color: var(--fill-color);\n",
              "    }\n",
              "    20% {\n",
              "      border-color: transparent;\n",
              "      border-left-color: var(--fill-color);\n",
              "      border-top-color: var(--fill-color);\n",
              "    }\n",
              "    30% {\n",
              "      border-color: transparent;\n",
              "      border-left-color: var(--fill-color);\n",
              "      border-top-color: var(--fill-color);\n",
              "      border-right-color: var(--fill-color);\n",
              "    }\n",
              "    40% {\n",
              "      border-color: transparent;\n",
              "      border-right-color: var(--fill-color);\n",
              "      border-top-color: var(--fill-color);\n",
              "    }\n",
              "    60% {\n",
              "      border-color: transparent;\n",
              "      border-right-color: var(--fill-color);\n",
              "    }\n",
              "    80% {\n",
              "      border-color: transparent;\n",
              "      border-right-color: var(--fill-color);\n",
              "      border-bottom-color: var(--fill-color);\n",
              "    }\n",
              "    90% {\n",
              "      border-color: transparent;\n",
              "      border-bottom-color: var(--fill-color);\n",
              "    }\n",
              "  }\n",
              "</style>\n",
              "\n",
              "  <script>\n",
              "    async function quickchart(key) {\n",
              "      const quickchartButtonEl =\n",
              "        document.querySelector('#' + key + ' button');\n",
              "      quickchartButtonEl.disabled = true;  // To prevent multiple clicks.\n",
              "      quickchartButtonEl.classList.add('colab-df-spinner');\n",
              "      try {\n",
              "        const charts = await google.colab.kernel.invokeFunction(\n",
              "            'suggestCharts', [key], {});\n",
              "      } catch (error) {\n",
              "        console.error('Error during call to suggestCharts:', error);\n",
              "      }\n",
              "      quickchartButtonEl.classList.remove('colab-df-spinner');\n",
              "      quickchartButtonEl.classList.add('colab-df-quickchart-complete');\n",
              "    }\n",
              "    (() => {\n",
              "      let quickchartButtonEl =\n",
              "        document.querySelector('#df-30dba2f7-94a3-47e9-8110-ddad72510911 button');\n",
              "      quickchartButtonEl.style.display =\n",
              "        google.colab.kernel.accessAllowed ? 'block' : 'none';\n",
              "    })();\n",
              "  </script>\n",
              "</div>\n",
              "\n",
              "  <div id=\"id_0d226dd9-5dc3-4589-bd21-8bfdfb3cf92f\">\n",
              "    <style>\n",
              "      .colab-df-generate {\n",
              "        background-color: #E8F0FE;\n",
              "        border: none;\n",
              "        border-radius: 50%;\n",
              "        cursor: pointer;\n",
              "        display: none;\n",
              "        fill: #1967D2;\n",
              "        height: 32px;\n",
              "        padding: 0 0 0 0;\n",
              "        width: 32px;\n",
              "      }\n",
              "\n",
              "      .colab-df-generate:hover {\n",
              "        background-color: #E2EBFA;\n",
              "        box-shadow: 0px 1px 2px rgba(60, 64, 67, 0.3), 0px 1px 3px 1px rgba(60, 64, 67, 0.15);\n",
              "        fill: #174EA6;\n",
              "      }\n",
              "\n",
              "      [theme=dark] .colab-df-generate {\n",
              "        background-color: #3B4455;\n",
              "        fill: #D2E3FC;\n",
              "      }\n",
              "\n",
              "      [theme=dark] .colab-df-generate:hover {\n",
              "        background-color: #434B5C;\n",
              "        box-shadow: 0px 1px 3px 1px rgba(0, 0, 0, 0.15);\n",
              "        filter: drop-shadow(0px 1px 2px rgba(0, 0, 0, 0.3));\n",
              "        fill: #FFFFFF;\n",
              "      }\n",
              "    </style>\n",
              "    <button class=\"colab-df-generate\" onclick=\"generateWithVariable('df')\"\n",
              "            title=\"Generate code using this dataframe.\"\n",
              "            style=\"display:none;\">\n",
              "\n",
              "  <svg xmlns=\"http://www.w3.org/2000/svg\" height=\"24px\"viewBox=\"0 0 24 24\"\n",
              "       width=\"24px\">\n",
              "    <path d=\"M7,19H8.4L18.45,9,17,7.55,7,17.6ZM5,21V16.75L18.45,3.32a2,2,0,0,1,2.83,0l1.4,1.43a1.91,1.91,0,0,1,.58,1.4,1.91,1.91,0,0,1-.58,1.4L9.25,21ZM18.45,9,17,7.55Zm-12,3A5.31,5.31,0,0,0,4.9,8.1,5.31,5.31,0,0,0,1,6.5,5.31,5.31,0,0,0,4.9,4.9,5.31,5.31,0,0,0,6.5,1,5.31,5.31,0,0,0,8.1,4.9,5.31,5.31,0,0,0,12,6.5,5.46,5.46,0,0,0,6.5,12Z\"/>\n",
              "  </svg>\n",
              "    </button>\n",
              "    <script>\n",
              "      (() => {\n",
              "      const buttonEl =\n",
              "        document.querySelector('#id_0d226dd9-5dc3-4589-bd21-8bfdfb3cf92f button.colab-df-generate');\n",
              "      buttonEl.style.display =\n",
              "        google.colab.kernel.accessAllowed ? 'block' : 'none';\n",
              "\n",
              "      buttonEl.onclick = () => {\n",
              "        google.colab.notebook.generateWithVariable('df');\n",
              "      }\n",
              "      })();\n",
              "    </script>\n",
              "  </div>\n",
              "\n",
              "    </div>\n",
              "  </div>\n"
            ],
            "application/vnd.google.colaboratory.intrinsic+json": {
              "type": "dataframe",
              "variable_name": "df",
              "summary": "{\n  \"name\": \"df\",\n  \"rows\": 10,\n  \"fields\": [\n    {\n      \"column\": \"assesment\",\n      \"properties\": {\n        \"dtype\": \"string\",\n        \"num_unique_values\": 10,\n        \"samples\": [\n          \"Sozialmedizinische Indikation f\\u00fcr das Hilfsmittel wird best\\u00e4tigt.\",\n          \"Gem\\u00e4\\u00df den Leistungsausz\\u00fcgen der Krankenkasse ist der Versicherte bereits entsprechend dem Einsatzbereich des beantragten funktionellen Produkt versorgt.\",\n          \"Bei der hier benannten Diagnose ist das Erfordernis eines Ausgleichs zur Sicherstellung des Grundbed\\u00fcrfnisses denkbar.\"\n        ],\n        \"semantic_type\": \"\",\n        \"description\": \"\"\n      }\n    },\n    {\n      \"column\": \"y_true\",\n      \"properties\": {\n        \"dtype\": \"category\",\n        \"num_unique_values\": 2,\n        \"samples\": [\n          \"Positive\",\n          \"Negative\"\n        ],\n        \"semantic_type\": \"\",\n        \"description\": \"\"\n      }\n    },\n    {\n      \"column\": \"y_hat\",\n      \"properties\": {\n        \"dtype\": \"category\",\n        \"num_unique_values\": 2,\n        \"samples\": [\n          \"Positive\",\n          \"Negative\"\n        ],\n        \"semantic_type\": \"\",\n        \"description\": \"\"\n      }\n    },\n    {\n      \"column\": \"explanation\",\n      \"properties\": {\n        \"dtype\": \"string\",\n        \"num_unique_values\": 10,\n        \"samples\": [\n          \"Ja\\n\\nDie Bewertung best\\u00e4tigt eine sozialmedizinische Indikation f\\u00fcr das Hilfsmittel, was auf eine positive Empfehlung hindeutet.\",\n          \"Nein\\n\\nDie Krankenkasse hat bereits den Versicherten entsprechend dem Einsatzbereich des beantragten funktionellen Produkts versorgt, was bedeutet, dass eine weitere Bewertung oder Empfehlung nicht erforderlich ist.\"\n        ],\n        \"semantic_type\": \"\",\n        \"description\": \"\"\n      }\n    }\n  ]\n}"
            }
          },
          "metadata": {},
          "execution_count": 25
        }
      ]
    },
    {
      "cell_type": "code",
      "source": [
        "df.to_excel(f'results_{kind}_{lang}.xlsx', index=False)"
      ],
      "metadata": {
        "id": "Qx92Kvt2NtEL"
      },
      "execution_count": 26,
      "outputs": []
    },
    {
      "cell_type": "code",
      "source": [
        "!ls -l"
      ],
      "metadata": {
        "id": "PKTEoSfxOKIe",
        "outputId": "f1235124-7189-40c4-8faf-fdd283d2031b",
        "colab": {
          "base_uri": "https://localhost:8080/"
        }
      },
      "execution_count": 27,
      "outputs": [
        {
          "output_type": "stream",
          "name": "stdout",
          "text": [
            "total 12\n",
            "-rw-r--r-- 1 root root 6378 Oct 27 16:43 results_Lllama_3.2_3B_16bit_de.xlsx\n",
            "drwxr-xr-x 1 root root 4096 Oct 24 13:20 sample_data\n"
          ]
        }
      ]
    },
    {
      "cell_type": "code",
      "source": [],
      "metadata": {
        "id": "F-HuCnbY2tP9"
      },
      "execution_count": 27,
      "outputs": []
    }
  ]
}